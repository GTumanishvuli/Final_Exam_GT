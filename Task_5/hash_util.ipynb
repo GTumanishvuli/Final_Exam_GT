{
 "cells": [
  {
   "cell_type": "code",
   "execution_count": 1,
   "id": "e872f553-fd67-4241-b99a-91d82916eb33",
   "metadata": {},
   "outputs": [],
   "source": [
    "# Step 1: Define hashing function\n",
    "def compute_hashes(file_path):\n",
    "    hashes = {\n",
    "        'SHA-256': None,\n",
    "        'SHA-1': None,\n",
    "        'MD5': None\n",
    "    }\n",
    "    \n",
    "    try:\n",
    "        with open(file_path, 'rb') as f:\n",
    "            data = f.read()\n",
    "            hashes['SHA-256'] = hashlib.sha256(data).hexdigest()\n",
    "            hashes['SHA-1'] = hashlib.sha1(data).hexdigest()\n",
    "            hashes['MD5'] = hashlib.md5(data).hexdigest()\n",
    "    except FileNotFoundError:\n",
    "        print(f\"Error: File {file_path} not found.\")\n",
    "        sys.exit(1)\n",
    "\n",
    "    return hashes"
   ]
  },
  {
   "cell_type": "code",
   "execution_count": 3,
   "id": "67c74c91-0370-441c-937e-aedfdcf54520",
   "metadata": {},
   "outputs": [],
   "source": [
    "# Step 2: Save hashes to a JSON file\n",
    "def save_hashes(hashes, filename):\n",
    "    with open(filename, 'w') as f:\n",
    "        json.dump(hashes, f, indent=4)"
   ]
  },
  {
   "cell_type": "code",
   "execution_count": 5,
   "id": "1fcbe572-ffa4-4a48-b336-67ce58094253",
   "metadata": {},
   "outputs": [],
   "source": [
    "# Step 3: Load hashes from a JSON file\n",
    "def load_hashes(filename):\n",
    "    with open(filename, 'r') as f:\n",
    "        return json.load(f)"
   ]
  },
  {
   "cell_type": "code",
   "execution_count": 7,
   "id": "f019bcf7-b155-416d-9a36-b3b0d383ce90",
   "metadata": {},
   "outputs": [
    {
     "name": "stdout",
     "output_type": "stream",
     "text": [
      "Computing hashes for original.txt...\n"
     ]
    }
   ],
   "source": [
    "# Step 4: Integrity check\n",
    "def check_integrity(original_hashes, new_hashes):\n",
    "    integrity_ok = True\n",
    "    for algo in original_hashes:\n",
    "        if original_hashes[algo] != new_hashes[algo]:\n",
    "            print(f\"[WARNING] {algo} hash mismatch!\")\n",
    "            integrity_ok = False\n",
    "    if integrity_ok:\n",
    "        print(\"[PASS] Integrity check passed.\")\n",
    "    else:\n",
    "        print(\"[FAIL] Integrity check failed.\")\n",
    "\n",
    "if __name__ == \"__main__\":\n",
    "    # Create original.txt\n",
    "    with open(\"original.txt\", \"w\") as f:\n",
    "        f.write(\"This is original file to test 1.\\n\")\n",
    "\n",
    "    print(\"Computing hashes for original.txt...\")\n",
    "    original_hashes = compute_hashes(\"original.txt\")\n",
    "    save_hashes(original_hashes, \"hashes.json\")"
   ]
  },
  {
   "cell_type": "code",
   "execution_count": 13,
   "id": "2f5d30fe-940d-4694-b610-e4f1488c1d80",
   "metadata": {},
   "outputs": [
    {
     "name": "stdout",
     "output_type": "stream",
     "text": [
      "Computing hashes for tampered.txt...\n"
     ]
    }
   ],
   "source": [
    "# Simulate tampering\n",
    "with open(\"tampered.txt\", \"w\") as f:\n",
    "    f.write(\"This file was tampered 1.\\n\")\n",
    "\n",
    "print(\"Computing hashes for tampered.txt...\")\n",
    "tampered_hashes = compute_hashes(\"tampered.txt\")"
   ]
  },
  {
   "cell_type": "code",
   "execution_count": 15,
   "id": "ea893bac-f5d7-4a4e-b4c1-318b35df0800",
   "metadata": {},
   "outputs": [],
   "source": [
    "    # Load original hashes\n",
    "    saved_hashes = load_hashes(\"hashes.json\")"
   ]
  },
  {
   "cell_type": "code",
   "execution_count": 17,
   "id": "8eb89902-4a6c-40ef-85dc-3ef2df596c0a",
   "metadata": {},
   "outputs": [
    {
     "name": "stdout",
     "output_type": "stream",
     "text": [
      "Checking file integrity...\n",
      "[WARNING] SHA-256 hash mismatch!\n",
      "[WARNING] SHA-1 hash mismatch!\n",
      "[WARNING] MD5 hash mismatch!\n",
      "[FAIL] Integrity check failed.\n"
     ]
    }
   ],
   "source": [
    "    # Compare and detect tampering\n",
    "    print(\"Checking file integrity...\")\n",
    "    check_integrity(saved_hashes, tampered_hashes)"
   ]
  },
  {
   "cell_type": "code",
   "execution_count": null,
   "id": "484b66a9-9317-414a-8eec-ff3978d00eb0",
   "metadata": {},
   "outputs": [],
   "source": []
  }
 ],
 "metadata": {
  "kernelspec": {
   "display_name": "Python [conda env:base] *",
   "language": "python",
   "name": "conda-base-py"
  },
  "language_info": {
   "codemirror_mode": {
    "name": "ipython",
    "version": 3
   },
   "file_extension": ".py",
   "mimetype": "text/x-python",
   "name": "python",
   "nbconvert_exporter": "python",
   "pygments_lexer": "ipython3",
   "version": "3.12.7"
  }
 },
 "nbformat": 4,
 "nbformat_minor": 5
}
